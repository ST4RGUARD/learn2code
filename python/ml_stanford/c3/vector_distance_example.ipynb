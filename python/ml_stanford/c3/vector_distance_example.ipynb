{
 "cells": [
  {
   "metadata": {},
   "cell_type": "markdown",
   "source": [
    "# Square Distance Between Vectors using NumPy\n",
    "This notebook demonstrates how to calculate the square distance between two vectors using NumPy"
   ],
   "id": "28b63dbffec26fdc"
  },
  {
   "metadata": {},
   "cell_type": "code",
   "outputs": [],
   "execution_count": null,
   "source": [
    "import numpy as np\n",
    "\n",
    "# Create two example vectors\n",
    "v1 = np.array([1, 2, 3])\n",
    "v2 = np.array([4, 5, 6])\n",
    "\n",
    "# Calculate square distance using np.square\n",
    "# Method 1: Element-wise difference then square\n",
    "diff = v2 - v1\n",
    "square_dist_1 = np.sum(np.square(diff))\n",
    "print(f\"Square distance (method 1): {square_dist_1}\")\n",
    "\n",
    "# Method 2: More compact way\n",
    "square_dist_2 = np.sum(np.square(v2 - v1))\n",
    "print(f\"Square distance (method 2):"
   ],
   "id": "b2d49b152ecc1c1"
  },
  {
   "metadata": {},
   "cell_type": "markdown",
   "source": [
    "The square distance is calculated by:\n",
    "1. Finding the difference between corresponding elements of the vectors\n",
    "2. Squaring each difference\n",
    "3. Summing up all squared differences"
   ],
   "id": "ddf200fdc5af6c27"
  },
  {
   "metadata": {},
   "cell_type": "code",
   "outputs": [],
   "execution_count": null,
   "source": [
    "# Example with 2D vectors\n",
    "v3 = np.array([1.5, 2.5])\n",
    "v4 = np.array([3.5, 4.5])\n",
    "\n",
    "square_dist_3 = np.sum(np.square(v4 - v3))\n",
    "print(f\"Square distance between 2D vectors: {square_dist_3}\")\n",
    "\n",
    "# Breaking down the calculation steps\n",
    "differences = v4 - v3\n",
    "squares = np.square(differences)\n",
    "total = np.sum(squares)\n",
    "\n",
    "print(\"\\nStep by step:\")\n",
    "print(f\"1. Differences: {differences}\")\n",
    "print(f\"2. Squared differences: {squares}\")\n",
    "print(f\"3. Sum of squares: {total}\")"
   ],
   "id": "d7db12a8ee7c659f"
  }
 ],
 "metadata": {
  "kernelspec": {
   "display_name": "Python 3",
   "language": "python",
   "name": "python3"
  },
  "language_info": {
   "codemirror_mode": {
    "name": "ipython",
    "version": 2
   },
   "file_extension": ".py",
   "mimetype": "text/x-python",
   "name": "python",
   "nbconvert_exporter": "python",
   "pygments_lexer": "ipython2",
   "version": "2.7.6"
  }
 },
 "nbformat": 4,
 "nbformat_minor": 5
}

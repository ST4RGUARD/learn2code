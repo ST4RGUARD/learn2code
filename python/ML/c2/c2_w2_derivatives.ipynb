{
 "cells": [
  {
   "metadata": {},
   "cell_type": "markdown",
   "source": "Derivatives with Sympy",
   "id": "80e21f66e861dfdf"
  },
  {
   "metadata": {
    "ExecuteTime": {
     "end_time": "2025-05-23T17:07:10.914020Z",
     "start_time": "2025-05-23T17:07:10.756408Z"
    }
   },
   "cell_type": "code",
   "source": "from sympy import symbols, diff",
   "id": "3ce487748d2400c5",
   "outputs": [],
   "execution_count": 2
  },
  {
   "metadata": {
    "ExecuteTime": {
     "end_time": "2025-05-23T17:07:21.545852Z",
     "start_time": "2025-05-23T17:07:21.541098Z"
    }
   },
   "cell_type": "code",
   "source": [
    "J = (3)**2\n",
    "J_epsilon = (3 + 0.001)**2\n",
    "k = (J_epsilon - J)/0.001    # difference divided by epsilon\n",
    "print(f\"J = {J}, J_epsilon = {J_epsilon}, dJ_dw ~= k = {k:0.6f} \")"
   ],
   "id": "61f27e7851978f79",
   "outputs": [
    {
     "name": "stdout",
     "output_type": "stream",
     "text": [
      "J = 9, J_epsilon = 9.006001, dJ_dw ~= k = 6.001000 \n"
     ]
    }
   ],
   "execution_count": 3
  },
  {
   "metadata": {
    "ExecuteTime": {
     "end_time": "2025-05-23T17:07:32.397890Z",
     "start_time": "2025-05-23T17:07:32.394702Z"
    }
   },
   "cell_type": "code",
   "source": [
    "J = (3)**2\n",
    "J_epsilon = (3 + 0.000000001)**2\n",
    "k = (J_epsilon - J)/0.000000001\n",
    "print(f\"J = {J}, J_epsilon = {J_epsilon}, dJ_dw ~= k = {k} \")"
   ],
   "id": "571bd7b7863cb90f",
   "outputs": [
    {
     "name": "stdout",
     "output_type": "stream",
     "text": [
      "J = 9, J_epsilon = 9.000000006, dJ_dw ~= k = 6.000000496442226 \n"
     ]
    }
   ],
   "execution_count": 4
  },
  {
   "metadata": {
    "ExecuteTime": {
     "end_time": "2025-05-23T17:07:41.243690Z",
     "start_time": "2025-05-23T17:07:41.239664Z"
    }
   },
   "cell_type": "code",
   "source": "J, w = symbols('J, w')",
   "id": "abe201bf74735a1",
   "outputs": [],
   "execution_count": 5
  },
  {
   "metadata": {
    "ExecuteTime": {
     "end_time": "2025-05-23T17:07:49.774220Z",
     "start_time": "2025-05-23T17:07:49.767398Z"
    }
   },
   "cell_type": "code",
   "source": [
    "J=w**2\n",
    "J"
   ],
   "id": "5c4dfa9db9d448e1",
   "outputs": [
    {
     "data": {
      "text/plain": [
       "w**2"
      ],
      "text/latex": "$\\displaystyle w^{2}$"
     },
     "execution_count": 6,
     "metadata": {},
     "output_type": "execute_result"
    }
   ],
   "execution_count": 6
  },
  {
   "metadata": {
    "ExecuteTime": {
     "end_time": "2025-05-23T17:08:03.756046Z",
     "start_time": "2025-05-23T17:08:03.725983Z"
    }
   },
   "cell_type": "code",
   "source": [
    "dJ_dw = diff(J,w)\n",
    "dJ_dw"
   ],
   "id": "d329b0df3c68eba7",
   "outputs": [
    {
     "data": {
      "text/plain": [
       "2*w"
      ],
      "text/latex": "$\\displaystyle 2 w$"
     },
     "execution_count": 7,
     "metadata": {},
     "output_type": "execute_result"
    }
   ],
   "execution_count": 7
  },
  {
   "metadata": {
    "ExecuteTime": {
     "end_time": "2025-05-23T17:08:15.207367Z",
     "start_time": "2025-05-23T17:08:15.202128Z"
    }
   },
   "cell_type": "code",
   "source": "dJ_dw.subs([(w,2)])    # derivative at the point w = 2",
   "id": "801dca54ab3e3dc8",
   "outputs": [
    {
     "data": {
      "text/plain": [
       "4"
      ],
      "text/latex": "$\\displaystyle 4$"
     },
     "execution_count": 8,
     "metadata": {},
     "output_type": "execute_result"
    }
   ],
   "execution_count": 8
  },
  {
   "metadata": {
    "ExecuteTime": {
     "end_time": "2025-05-23T17:08:25.923967Z",
     "start_time": "2025-05-23T17:08:25.916697Z"
    }
   },
   "cell_type": "code",
   "source": "dJ_dw.subs([(w,3)])    # derivative at the point w = 3",
   "id": "ba22aef284844f09",
   "outputs": [
    {
     "data": {
      "text/plain": [
       "6"
      ],
      "text/latex": "$\\displaystyle 6$"
     },
     "execution_count": 9,
     "metadata": {},
     "output_type": "execute_result"
    }
   ],
   "execution_count": 9
  },
  {
   "metadata": {
    "ExecuteTime": {
     "end_time": "2025-05-23T17:08:35.449122Z",
     "start_time": "2025-05-23T17:08:35.444664Z"
    }
   },
   "cell_type": "code",
   "source": "dJ_dw.subs([(w,-3)])    # derivative at the point w = -3",
   "id": "55e601cfbc0aad37",
   "outputs": [
    {
     "data": {
      "text/plain": [
       "-6"
      ],
      "text/latex": "$\\displaystyle -6$"
     },
     "execution_count": 10,
     "metadata": {},
     "output_type": "execute_result"
    }
   ],
   "execution_count": 10
  },
  {
   "metadata": {
    "ExecuteTime": {
     "end_time": "2025-05-23T17:08:54.770305Z",
     "start_time": "2025-05-23T17:08:54.767281Z"
    }
   },
   "cell_type": "code",
   "source": "w, J = symbols('w, J')",
   "id": "4127d0135a166066",
   "outputs": [],
   "execution_count": 11
  },
  {
   "metadata": {
    "ExecuteTime": {
     "end_time": "2025-05-23T17:09:01.265138Z",
     "start_time": "2025-05-23T17:09:01.261649Z"
    }
   },
   "cell_type": "code",
   "source": [
    "J = 2 * w\n",
    "J"
   ],
   "id": "38ec092422f8d5ca",
   "outputs": [
    {
     "data": {
      "text/plain": [
       "2*w"
      ],
      "text/latex": "$\\displaystyle 2 w$"
     },
     "execution_count": 12,
     "metadata": {},
     "output_type": "execute_result"
    }
   ],
   "execution_count": 12
  },
  {
   "metadata": {
    "ExecuteTime": {
     "end_time": "2025-05-23T17:09:08.700429Z",
     "start_time": "2025-05-23T17:09:08.697337Z"
    }
   },
   "cell_type": "code",
   "source": [
    "dJ_dw = diff(J,w)\n",
    "dJ_dw"
   ],
   "id": "f842449f4bd3242",
   "outputs": [
    {
     "data": {
      "text/plain": [
       "2"
      ],
      "text/latex": "$\\displaystyle 2$"
     },
     "execution_count": 13,
     "metadata": {},
     "output_type": "execute_result"
    }
   ],
   "execution_count": 13
  },
  {
   "metadata": {
    "ExecuteTime": {
     "end_time": "2025-05-23T17:09:18.088574Z",
     "start_time": "2025-05-23T17:09:18.084132Z"
    }
   },
   "cell_type": "code",
   "source": "dJ_dw.subs([(w,-3)])    # derivative at the point w = -3",
   "id": "37200c9113e44084",
   "outputs": [
    {
     "data": {
      "text/plain": [
       "2"
      ],
      "text/latex": "$\\displaystyle 2$"
     },
     "execution_count": 14,
     "metadata": {},
     "output_type": "execute_result"
    }
   ],
   "execution_count": 14
  },
  {
   "metadata": {
    "ExecuteTime": {
     "end_time": "2025-05-23T17:09:26.484551Z",
     "start_time": "2025-05-23T17:09:26.480810Z"
    }
   },
   "cell_type": "code",
   "source": [
    "J = 2*3\n",
    "J_epsilon = 2*(3 + 0.001)\n",
    "k = (J_epsilon - J)/0.001\n",
    "print(f\"J = {J}, J_epsilon = {J_epsilon}, dJ_dw ~= k = {k} \")"
   ],
   "id": "a8d983d191604445",
   "outputs": [
    {
     "name": "stdout",
     "output_type": "stream",
     "text": [
      "J = 6, J_epsilon = 6.002, dJ_dw ~= k = 1.9999999999997797 \n"
     ]
    }
   ],
   "execution_count": 15
  },
  {
   "metadata": {
    "ExecuteTime": {
     "end_time": "2025-05-23T17:09:43.480519Z",
     "start_time": "2025-05-23T17:09:43.477578Z"
    }
   },
   "cell_type": "code",
   "source": "J, w = symbols('J, w')",
   "id": "6fe8780bcba36f39",
   "outputs": [],
   "execution_count": 16
  },
  {
   "metadata": {
    "ExecuteTime": {
     "end_time": "2025-05-23T17:09:49.451449Z",
     "start_time": "2025-05-23T17:09:49.446683Z"
    }
   },
   "cell_type": "code",
   "source": [
    "J=w**3\n",
    "J"
   ],
   "id": "2b1f2bc77e1f59bb",
   "outputs": [
    {
     "data": {
      "text/plain": [
       "w**3"
      ],
      "text/latex": "$\\displaystyle w^{3}$"
     },
     "execution_count": 17,
     "metadata": {},
     "output_type": "execute_result"
    }
   ],
   "execution_count": 17
  },
  {
   "metadata": {
    "ExecuteTime": {
     "end_time": "2025-05-23T17:09:56.147931Z",
     "start_time": "2025-05-23T17:09:56.142334Z"
    }
   },
   "cell_type": "code",
   "source": [
    "dJ_dw = diff(J,w)\n",
    "dJ_dw"
   ],
   "id": "c76f11c3e44e2e5b",
   "outputs": [
    {
     "data": {
      "text/plain": [
       "3*w**2"
      ],
      "text/latex": "$\\displaystyle 3 w^{2}$"
     },
     "execution_count": 18,
     "metadata": {},
     "output_type": "execute_result"
    }
   ],
   "execution_count": 18
  },
  {
   "metadata": {
    "ExecuteTime": {
     "end_time": "2025-05-23T17:10:05.779374Z",
     "start_time": "2025-05-23T17:10:05.774973Z"
    }
   },
   "cell_type": "code",
   "source": "dJ_dw.subs([(w,2)])   # derivative at the point w=2",
   "id": "723f72ab708fb258",
   "outputs": [
    {
     "data": {
      "text/plain": [
       "12"
      ],
      "text/latex": "$\\displaystyle 12$"
     },
     "execution_count": 19,
     "metadata": {},
     "output_type": "execute_result"
    }
   ],
   "execution_count": 19
  },
  {
   "metadata": {
    "ExecuteTime": {
     "end_time": "2025-05-23T17:10:12.226384Z",
     "start_time": "2025-05-23T17:10:12.223012Z"
    }
   },
   "cell_type": "code",
   "source": [
    "J = (2)**3\n",
    "J_epsilon = (2+0.001)**3\n",
    "k = (J_epsilon - J)/0.001\n",
    "print(f\"J = {J}, J_epsilon = {J_epsilon}, dJ_dw ~= k = {k} \")"
   ],
   "id": "afb1d671d64a02bf",
   "outputs": [
    {
     "name": "stdout",
     "output_type": "stream",
     "text": [
      "J = 8, J_epsilon = 8.012006000999998, dJ_dw ~= k = 12.006000999997823 \n"
     ]
    }
   ],
   "execution_count": 20
  },
  {
   "metadata": {
    "ExecuteTime": {
     "end_time": "2025-05-23T17:10:22.565626Z",
     "start_time": "2025-05-23T17:10:22.562836Z"
    }
   },
   "cell_type": "code",
   "source": "J, w = symbols('J, w')",
   "id": "8ae37cdbc1e3b0c4",
   "outputs": [],
   "execution_count": 21
  },
  {
   "metadata": {
    "ExecuteTime": {
     "end_time": "2025-05-23T17:10:29.218812Z",
     "start_time": "2025-05-23T17:10:29.215414Z"
    }
   },
   "cell_type": "code",
   "source": [
    "J= 1/w\n",
    "J"
   ],
   "id": "56ce5b7b61047fc1",
   "outputs": [
    {
     "data": {
      "text/plain": [
       "1/w"
      ],
      "text/latex": "$\\displaystyle \\frac{1}{w}$"
     },
     "execution_count": 22,
     "metadata": {},
     "output_type": "execute_result"
    }
   ],
   "execution_count": 22
  },
  {
   "metadata": {
    "ExecuteTime": {
     "end_time": "2025-05-23T17:10:38.233565Z",
     "start_time": "2025-05-23T17:10:38.228578Z"
    }
   },
   "cell_type": "code",
   "source": [
    "dJ_dw = diff(J,w)\n",
    "dJ_dw"
   ],
   "id": "82fa7a426ecc6557",
   "outputs": [
    {
     "data": {
      "text/plain": [
       "-1/w**2"
      ],
      "text/latex": "$\\displaystyle - \\frac{1}{w^{2}}$"
     },
     "execution_count": 23,
     "metadata": {},
     "output_type": "execute_result"
    }
   ],
   "execution_count": 23
  },
  {
   "metadata": {
    "ExecuteTime": {
     "end_time": "2025-05-23T17:10:47.760679Z",
     "start_time": "2025-05-23T17:10:47.756643Z"
    }
   },
   "cell_type": "code",
   "source": "dJ_dw.subs([(w,2)])",
   "id": "21a26d6dffb2f38a",
   "outputs": [
    {
     "data": {
      "text/plain": [
       "-1/4"
      ],
      "text/latex": "$\\displaystyle - \\frac{1}{4}$"
     },
     "execution_count": 24,
     "metadata": {},
     "output_type": "execute_result"
    }
   ],
   "execution_count": 24
  },
  {
   "metadata": {
    "ExecuteTime": {
     "end_time": "2025-05-23T17:10:54.415840Z",
     "start_time": "2025-05-23T17:10:54.412354Z"
    }
   },
   "cell_type": "code",
   "source": [
    "J = 1/2\n",
    "J_epsilon = 1/(2+0.001)\n",
    "k = (J_epsilon - J)/0.001\n",
    "print(f\"J = {J}, J_epsilon = {J_epsilon}, dJ_dw ~= k = {k} \")"
   ],
   "id": "9f0372ccb811dd89",
   "outputs": [
    {
     "name": "stdout",
     "output_type": "stream",
     "text": [
      "J = 0.5, J_epsilon = 0.49975012493753124, dJ_dw ~= k = -0.2498750624687629 \n"
     ]
    }
   ],
   "execution_count": 25
  },
  {
   "metadata": {
    "ExecuteTime": {
     "end_time": "2025-05-23T17:11:04.033013Z",
     "start_time": "2025-05-23T17:11:04.030919Z"
    }
   },
   "cell_type": "code",
   "source": "J, w = symbols('J, w')",
   "id": "82d5d499d1e19ff6",
   "outputs": [],
   "execution_count": 26
  }
 ],
 "metadata": {
  "kernelspec": {
   "display_name": "Python 3",
   "language": "python",
   "name": "python3"
  },
  "language_info": {
   "codemirror_mode": {
    "name": "ipython",
    "version": 2
   },
   "file_extension": ".py",
   "mimetype": "text/x-python",
   "name": "python",
   "nbconvert_exporter": "python",
   "pygments_lexer": "ipython2",
   "version": "2.7.6"
  }
 },
 "nbformat": 4,
 "nbformat_minor": 5
}
